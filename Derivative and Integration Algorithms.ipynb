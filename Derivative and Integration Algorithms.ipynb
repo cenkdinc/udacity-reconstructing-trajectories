{
 "cells": [
  {
   "cell_type": "code",
   "execution_count": 1,
   "metadata": {},
   "outputs": [
    {
     "name": "stdout",
     "output_type": "stream",
     "text": [
      "The derivative at t = 3.45 is -3.810489999906963\n"
     ]
    }
   ],
   "source": [
    "## Derivative of FUNCTION\n",
    "\n",
    "from matplotlib import pyplot as plt\n",
    "%matplotlib inline\n",
    "\n",
    "import numpy as np\n",
    "\n",
    "def position(time):\n",
    "    return -4.9 * time ** 2 + 30 * time\n",
    "\n",
    "def plot_continuous_function(t_min, t_max):\n",
    "    t = np.linspace(t_min, t_max)\n",
    "    x = position(t)\n",
    "    plt.plot(t,x)\n",
    "    plt.show()\n",
    "    \n",
    "def approximate_derivative(f, t):  \n",
    "    delta_t = 0.0001\n",
    "    vertical_change = f(t + delta_t) - f(t)\n",
    "    return vertical_change / delta_t\n",
    "\n",
    "deriv_at_3_point_45 = approximate_derivative(position, 3.45)\n",
    "print(\"The derivative at t = 3.45 is\", deriv_at_3_point_45)"
   ]
  },
  {
   "cell_type": "code",
   "execution_count": 2,
   "metadata": {},
   "outputs": [
    {
     "data": {
      "image/png": "[encoded data removed]",
      "text/plain": [
       "<Figure size 432x288 with 1 Axes>"
      ]
     },
     "metadata": {
      "needs_background": "light"
     },
     "output_type": "display_data"
    }
   ],
   "source": [
    "## Derivative of DATA\n",
    "\n",
    "def get_derivative_from_data(position_data, time_data):\n",
    "\n",
    "    if len(position_data) != len(time_data):\n",
    "        raise(ValueError, \"Data sets must have same length\")\n",
    "    \n",
    "    speeds = []\n",
    "    \n",
    "    previous_position = position_data[0]\n",
    "    previous_time     = time_data[0]\n",
    "    \n",
    "    for i in range(1, len(position_data)):\n",
    "        \n",
    "        position = position_data[i]\n",
    "        time     = time_data[i]\n",
    "        delta_x = position - previous_position\n",
    "        delta_t = time - previous_time\n",
    "    \n",
    "        speed = delta_x / delta_t\n",
    "        speeds.append(speed)\n",
    "        \n",
    "        previous_position = position\n",
    "        previous_time     = time\n",
    "    \n",
    "    return speeds\n",
    "\n",
    "ppdata = [(0.0, 0.0, 0.0, 0.0),\n",
    " (0.025, 0.0, 0.0, 1.96),\n",
    " (0.125, -0.007656250, 0.0, 1.96),\n",
    " (0.1875, -0.022968750, -0.0, 1.96),\n",
    " (0.25, -0.04593750, -0.0, 1.96)]\n",
    "\n",
    "timestamps =[row[0] for row in ppdata]\n",
    "displacements =[row[1] for row in ppdata]\n",
    "\n",
    "speeds = get_derivative_from_data(displacements, timestamps)\n",
    "accelerations = get_derivative_from_data(speeds, timestamps[1:])\n",
    "\n",
    "plt.title(\"x(t), v(t), a(t)\")\n",
    "plt.xlabel(\"Time (seconds)\")\n",
    "plt.ylabel(\"x (blue), v (orange), a (green)\")\n",
    "plt.scatter(timestamps, displacements)\n",
    "plt.scatter(timestamps[1:], speeds)\n",
    "plt.scatter(timestamps[2:], accelerations)\n",
    "plt.show()"
   ]
  },
  {
   "cell_type": "code",
   "execution_count": 3,
   "metadata": {},
   "outputs": [
    {
     "data": {
      "text/plain": [
       "0.9999922557157405"
      ]
     },
     "execution_count": 3,
     "metadata": {},
     "output_type": "execute_result"
    }
   ],
   "source": [
    "## Integral of FUNCTION\n",
    "\n",
    "from math import sqrt, pi\n",
    "\n",
    "def integral(f, t1, t2, dt=0.1):\n",
    "    area = 0.0\n",
    "    t = t1\n",
    "    \n",
    "    while t < t2:\n",
    "        dA = f(t) * dt\n",
    "        area += dA\n",
    "        t += dt\n",
    "    return area\n",
    "\n",
    "\n",
    "def f3(t):\n",
    "    num = np.exp(-(t-5)**2/(2.0*0.2))                 \n",
    "    den = sqrt(2 * pi * 0.2)\n",
    "    return num/den\n",
    "                 \n",
    "integral(f3,3,7, 0.001)"
   ]
  },
  {
   "cell_type": "code",
   "execution_count": 6,
   "metadata": {},
   "outputs": [
    {
     "data": {
      "image/png": "[encoded data removed]",
      "text/plain": [
       "<Figure size 432x288 with 1 Axes>"
      ]
     },
     "metadata": {
      "needs_background": "light"
     },
     "output_type": "display_data"
    }
   ],
   "source": [
    "## Integral of DATA\n",
    "\n",
    "def get_integral_from_data(acceleration_data, times):\n",
    "\n",
    "    accumulated_speed = 0.0\n",
    "    \n",
    "    last_time = times[0]\n",
    "    speeds = []\n",
    "    \n",
    "    for i in range(1, len(times)):\n",
    "        \n",
    "        acceleration = acceleration_data[i]\n",
    "        time = times[i]\n",
    "        \n",
    "        delta_t = time - last_time\n",
    "        delta_v = acceleration * delta_t\n",
    "\n",
    "        accumulated_speed += delta_v\n",
    "        speeds.append(accumulated_speed)\n",
    "        \n",
    "        last_time = time\n",
    "    return speeds\n",
    "\n",
    "ppdata = [(0.0, 0.0, 0.0, 0.0),\n",
    " (0.025, 0.0, 0.0, 1.96),\n",
    " (0.125, -0.007656250, 0.0, 1.96),\n",
    " (0.1875, -0.022968750, -0.0, 1.96),\n",
    " (0.25, -0.04593750, -0.0, 1.96)]\n",
    "\n",
    "timestamps =[row[0] for row in ppdata]\n",
    "displacements =[row[1] for row in ppdata]\n",
    "accelerations =[row[3] for row in ppdata]\n",
    "\n",
    "integrated_speeds = get_integral_from_data(accelerations, timestamps)\n",
    "integrated_displacements = get_integral_from_data(integrated_speeds,timestamps[1:])\n",
    "\n",
    "plt.scatter(timestamps[1:], integrated_speeds)\n",
    "plt.scatter(timestamps[2:], integrated_displacements)\n",
    "plt.show()"
   ]
  },
  {
   "cell_type": "code",
   "execution_count": 8,
   "metadata": {},
   "outputs": [
    {
     "data": {
      "image/png": "[encoded data removed]",
      "text/plain": [
       "<Figure size 432x288 with 1 Axes>"
      ]
     },
     "metadata": {
      "needs_background": "light"
     },
     "output_type": "display_data"
    }
   ],
   "source": [
    "## integral of data(yaw rate) gives the change in heading.\n",
    "\n",
    "def get_integral_from_data(data, times):\n",
    "    \n",
    "    heading = 0.0\n",
    "    headings = []\n",
    "    last_time = times[0]\n",
    "    \n",
    "    for i in range(1, len(data)):\n",
    "        \n",
    "        time = times[i]\n",
    "        yaw = data[i]\n",
    "        \n",
    "        heading += yaw*(time-last_time)\n",
    "        headings.append(heading)\n",
    "        \n",
    "        last_time = time        \n",
    "    \n",
    "    return headings\n",
    "\n",
    "ppdata = [(0.0, 0.0, 0.0, 0.0),\n",
    " (0.025, 0.0, 0.0, 1.96),\n",
    " (0.125, -0.007656250, 0.0, 1.96),\n",
    " (0.1875, -0.022968750, -2.0, 1.96),\n",
    " (0.25, -0.04593750, -2.0, 1.96)]\n",
    "\n",
    "timestamps =[row[0] for row in ppdata]\n",
    "yaw_rates =[row[2] for row in ppdata]\n",
    "\n",
    "thetas = get_integral_from_data(yaw_rates, timestamps)\n",
    "\n",
    "plt.scatter(timestamps[1:], thetas)\n",
    "plt.show()"
   ]
  }
 ],
 "metadata": {
  "kernelspec": {
   "display_name": "Python 3",
   "language": "python",
   "name": "python3"
  },
  "language_info": {
   "codemirror_mode": {
    "name": "ipython",
    "version": 3
   },
   "file_extension": ".py",
   "mimetype": "text/x-python",
   "name": "python",
   "nbconvert_exporter": "python",
   "pygments_lexer": "ipython3",
   "version": "3.8.5"
  }
 },
 "nbformat": 4,
 "nbformat_minor": 4
}
